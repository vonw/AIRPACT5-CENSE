{
 "cells": [
  {
   "cell_type": "markdown",
   "metadata": {},
   "source": [
    "# Cardiopulmonary Events from Smoke Estimator (CENSE)"
   ]
  },
  {
   "cell_type": "markdown",
   "metadata": {},
   "source": [
    "A web application for visualizing relative health risk for various medical conditions related to particulate matter (PM2.5)."
   ]
  },
  {
   "cell_type": "markdown",
   "metadata": {},
   "source": [
    "```\n",
    "AIRPACT5 forecases from Joe Vaughn, Washington State University \n",
    "Concentration Responses Functions from Matt Kadlec, WA Dept of Ecology\n",
    "Code written by Von P. Walden, Washington State University\n",
    "```"
   ]
  },
  {
   "cell_type": "code",
   "execution_count": 1,
   "metadata": {},
   "outputs": [],
   "source": [
    "import ipywidgets as widgets\n",
    "import numpy as np\n",
    "import pandas as pd\n",
    "import xarray as xr\n",
    "import matplotlib.pyplot as plt\n",
    "import cartopy.crs as ccrs\n",
    "from cartopy.feature import NaturalEarthFeature\n",
    "%matplotlib inline"
   ]
  },
  {
   "cell_type": "code",
   "execution_count": 2,
   "metadata": {},
   "outputs": [],
   "source": [
    "from AIRPACT5_CENSE import relativeHealthRisk"
   ]
  },
  {
   "cell_type": "code",
   "execution_count": 3,
   "metadata": {},
   "outputs": [],
   "source": [
    "#....Date\n",
    "date   = pd.to_datetime('now') - pd.Timedelta('1D')\n",
    "#....Location (Spokane, WA)\n",
    "latitude  = 47.6588\n",
    "longitude = -117.4260\n",
    "# ....Medical condition\n",
    "conditions = ['Non-trauma EDV CRFs [ICD 10: A00-R99]',\n",
    "              'Asthma HA CRFs [ICD 10: J45]',\n",
    "              'WA baseline incidence rate (per person per day)',\n",
    "              'Asthma symptoms onset CRFs [ICD 10: J45]',\n",
    "              'COPD Emergency HA  CRFs [ICD 10: J41,J42,J43,J44]',\n",
    "              'Acute Otitis Media (ear ache) Outpatient healthcare CRFs [ICD-10: H65, H66, H67, H68, H69, J10, J11, J12]',\n",
    "              'Respiratory Disease HA CRFs [ICD 10: J00-J99]',\n",
    "              'Ischemic heart disease EDV CRFs [ICD 10: I20-I25, I46, I49]']"
   ]
  },
  {
   "cell_type": "code",
   "execution_count": 11,
   "metadata": {},
   "outputs": [
    {
     "data": {
      "application/vnd.jupyter.widget-view+json": {
       "model_id": "514657dd3b7c4e858f887ff251630b58",
       "version_major": 2,
       "version_minor": 0
      },
      "text/plain": [
       "interactive(children=(Dropdown(description='age', index=25, options=(0, 1, 2, 3, 4, 5, 6, 7, 8, 9, 10, 11, 12,…"
      ]
     },
     "metadata": {},
     "output_type": "display_data"
    }
   ],
   "source": [
    "@widgets.interact(age=list(np.arange(0,111)), condition=conditions)\n",
    "def f(age=25, condition=conditions[3]):\n",
    "    personalRiskIncrease, riskIncrease, CRF = relativeHealthRisk(date, latitude, longitude, age, condition)\n",
    "    grid = xr.open_dataset('GRIDCRO2D')\n",
    "    lats = np.reshape(grid.LAT.values,(258,285))\n",
    "    lons = np.reshape(grid.LON.values,(258,285))\n",
    "    plt.figure(figsize=(16,8))\n",
    "    ax = plt.axes(projection=ccrs.PlateCarree())\n",
    "    states = NaturalEarthFeature(category=\"cultural\", scale=\"50m\", facecolor=\"none\", name=\"admin_1_states_provinces_shp\")\n",
    "    ax.add_feature(states, linewidth=.5, edgecolor=\"black\")\n",
    "    plt.contourf(lons, lats, riskIncrease, np.arange(0,1.1,0.1), transform=ccrs.PlateCarree())\n",
    "    ax.coastlines(resolution='10m')\n",
    "    plt.colorbar()\n",
    "    plt.title(condition + ' for ' + str(age) + ' year old')\n",
    "    plt.show()\n",
    "    \n",
    "    plt.figure(figsize=(16,6))\n",
    "    plt.plot(CRF.index, CRF)\n",
    "    plt.plot(age,CRF[age],'ro', markersize=20)\n",
    "    plt.xlabel('Age (years)');\n",
    "    plt.ylabel('CRF')\n",
    "    plt.title('Concentration Response Function for ' + condition + ', from Matt Kadlec, WA Dept of Ecology')\n",
    "    plt.show()"
   ]
  }
 ],
 "metadata": {
  "kernelspec": {
   "display_name": "Python 3",
   "language": "python",
   "name": "python3"
  },
  "language_info": {
   "codemirror_mode": {
    "name": "ipython",
    "version": 3
   },
   "file_extension": ".py",
   "mimetype": "text/x-python",
   "name": "python",
   "nbconvert_exporter": "python",
   "pygments_lexer": "ipython3",
   "version": "3.7.3"
  }
 },
 "nbformat": 4,
 "nbformat_minor": 2
}
